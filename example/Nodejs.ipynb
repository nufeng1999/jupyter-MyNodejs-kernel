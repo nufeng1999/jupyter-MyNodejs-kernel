{
 "cells": [
  {
   "cell_type": "code",
   "execution_count": null,
   "id": "56c5ee63-2e46-4b10-aee3-13489d41f32c",
   "metadata": {},
   "outputs": [],
   "source": [
    "//%log:0\n",
    "//%onlyruncmd\n",
    "//%command:node --version\n"
   ]
  },
  {
   "cell_type": "code",
   "execution_count": null,
   "id": "c1b88d1a",
   "metadata": {},
   "outputs": [],
   "source": [
    "//%log:0\n",
    "//%onlyruncmd\n",
    "//%npmcmd: --version"
   ]
  },
  {
   "cell_type": "code",
   "execution_count": 1,
   "id": "db4965b5",
   "metadata": {},
   "outputs": [
    {
     "name": "stdout",
     "output_type": "stream",
     "text": [
      "[MyNodejsKernel220020] Info:The process :h:\\Jupyter\\ipynb\\MyNodejs\\tmpybck79j1.js\n",
      "[MyNodejsKernel220020] Info:node h:\\Jupyter\\ipynb\\MyNodejs\\tmpybck79j1.js \n"
     ]
    },
    {
     "data": {
      "text/plain": [
       "我的公司市值2000亿美元\n"
      ]
     },
     "metadata": {
      "text/plain": {}
     },
     "output_type": "display_data"
    },
    {
     "name": "stdout",
     "output_type": "stream",
     "text": [
      "[MyNodejsKernel220020] Info:The process end:7852\n"
     ]
    }
   ],
   "source": [
    "//%log:0\n",
    "///%overwritefile\n",
    "///%file:src/mlinetest1.js\n",
    "var x = \"我的\\\n",
    "公司市值\\\n",
    "2000亿美元\";\n",
    "\n",
    "console.log(x);\n"
   ]
  },
  {
   "cell_type": "code",
   "execution_count": null,
   "id": "cf7f8f76",
   "metadata": {},
   "outputs": [],
   "source": [
    "//%log:0\n",
    "console.log(\"Hello World\");\n",
    "console.log( __filename );\n",
    "console.log( __dirname );\n",
    "function printHello1(){\n",
    "    console.log( \"1.Hello, World!\");\n",
    " }\n",
    "// 两秒后执行以上函数\n",
    " setTimeout(printHello1, 2000);\n",
    " function printHello2(){\n",
    "    console.log( \"2.Hello, World!\");\n",
    " }\n",
    "// 两秒后执行以上函数\n",
    " var t = setTimeout(printHello2, 2000);\n",
    "// 清除定时器\n",
    " clearTimeout(t);\n",
    "\n",
    " function printHello3(){\n",
    "    console.log( \"3.Hello, World!\");\n",
    " }\n",
    " // 两秒后执行以上函数\n",
    " setInterval(printHello3, 2000);"
   ]
  },
  {
   "cell_type": "code",
   "execution_count": null,
   "id": "ec5ffa31",
   "metadata": {},
   "outputs": [],
   "source": [
    "//hello.js\n",
    "//%log:1\n",
    "//%noruncode\n",
    "//%overwritefile\n",
    "//%file:src/hello.js\n",
    "function Hello() { \n",
    "    var name; \n",
    "    this.setName = function(thyName) { \n",
    "        name = thyName; \n",
    "    }; \n",
    "    this.sayHello = function() { \n",
    "        console.log('Hello ' + name); \n",
    "    }; \n",
    "}; \n",
    "module.exports = Hello;"
   ]
  },
  {
   "cell_type": "code",
   "execution_count": null,
   "id": "89f6b3b5",
   "metadata": {},
   "outputs": [],
   "source": [
    "//main.js \n",
    "//%log:0\n",
    "//%overwritefile\n",
    "//%file:src/main.js\n",
    "var Hello = require('./hello'); \n",
    "hello = new Hello(); \n",
    "hello.setName('BYVoid'); \n",
    "hello.sayHello(); "
   ]
  },
  {
   "cell_type": "code",
   "execution_count": null,
   "id": "70d3282d",
   "metadata": {},
   "outputs": [],
   "source": [
    "//main.js \n",
    "//%log:0\n",
    "//%overwritefile\n",
    "//%file:src/test1.js\n",
    "// 引入 events 模块\n",
    "var events = require('events');\n",
    "// 创建 eventEmitter 对象\n",
    "var eventEmitter = new events.EventEmitter();\n",
    " \n",
    "// 创建事件处理程序\n",
    "var connectHandler = function connected() {\n",
    "   console.log('连接成功。');\n",
    "  \n",
    "   // 触发 data_received 事件 \n",
    "   eventEmitter.emit('data_received');\n",
    "}\n",
    "//---------------------------------\n",
    "// 绑定 connection 事件处理程序\n",
    "eventEmitter.on('connection', connectHandler);\n",
    " \n",
    "// 使用匿名函数绑定 data_received 事件\n",
    "eventEmitter.on('data_received', function(){\n",
    "   console.log('数据接收成功。');\n",
    "});\n",
    "//---------------------------------\n",
    "\n",
    "// 触发 connection 事件 \n",
    "eventEmitter.emit('connection');\n",
    " \n",
    "console.log(\"程序执行完毕。\");"
   ]
  },
  {
   "cell_type": "code",
   "execution_count": null,
   "id": "0034793f",
   "metadata": {},
   "outputs": [],
   "source": [
    "// ES6出来可以通过Promise来进行异步处理\n",
    "// 方式1\n",
    "var p = new Promise(function (resolve, reject) {\n",
    "    // resolve 表示执行成功\n",
    "    // reject 表示执行失败\n",
    "    setTimeout(() => {\n",
    "        var name = \"小明\";\n",
    "        resolve(name)\n",
    "    })\n",
    "})\n",
    "\n",
    "p.then( (data) => {\n",
    "    console.log(data);// 小明\n",
    "})"
   ]
  },
  {
   "cell_type": "code",
   "execution_count": null,
   "id": "cf1bf8a1",
   "metadata": {},
   "outputs": [],
   "source": [
    "// ES6出来可以通过Promise来进行异步处理\n",
    "// 方式2 ，封装getData函数\n",
    "function getData(resolve, reject) {\n",
    "    setTimeout(function (){\n",
    "        var name = \"Tom\"\n",
    "        resolve(name);\n",
    "    }, 5000)\n",
    "}\n",
    "var p = new Promise(getData)\n",
    "\n",
    "p.then((data)=> {\n",
    "    console.log(data); //Tom\n",
    "})"
   ]
  },
  {
   "cell_type": "code",
   "execution_count": null,
   "id": "3f8624b9",
   "metadata": {},
   "outputs": [],
   "source": [
    "//%log:0\n",
    "//%overwritefile\n",
    "//%file:src/test4.js\n",
    "async function test () {\n",
    "    return \"hello world!\"\n",
    "}\n",
    "console.log(test())\n",
    "// Promise { 'hello world!' }\n",
    "async function main () {\n",
    "    var data = await test();\n",
    "    console.log(data);// hello world!\n",
    "}\n",
    "main()"
   ]
  },
  {
   "cell_type": "code",
   "execution_count": null,
   "id": "898a8326",
   "metadata": {},
   "outputs": [],
   "source": [
    "async function test () {\n",
    "    return new Promise((resolve, reject) => {\n",
    "        setTimeout(function () {\n",
    "            var name = \"Lucy\";\n",
    "            resolve(name);\n",
    "        }, 1000)\n",
    "    })\n",
    "}\n",
    "\n",
    "\n",
    "async function main () {\n",
    "    var data = await test();\n",
    "    console.log(data);//Lucy\n",
    "}\n",
    "main()"
   ]
  },
  {
   "cell_type": "code",
   "execution_count": null,
   "id": "e236e07e",
   "metadata": {},
   "outputs": [],
   "source": [
    "var fs = require(\"fs\")\n",
    "async function isDir(path) {\n",
    "    return new Promise((resolve, reject)=> {\n",
    "        fs.stat(path, (err,stats)=> {\n",
    "            if (err) {\n",
    "                console.log(err);\n",
    "                reject(err);\n",
    "                return\n",
    "            }\n",
    "            if (stats.isDirectory()) {\n",
    "                resolve(true);\n",
    "            }else {\n",
    "                resolve(false);\n",
    "            }\n",
    "        })\n",
    "    })\n",
    "}\n",
    "\n",
    "function  main() {\n",
    "    var path = \"../MyNodejs\"\n",
    "    var dirArr = []\n",
    "    fs.readdir(path, async (err, data)=> {\n",
    "        if (err) {\n",
    "            console.log(err);\n",
    "            return\n",
    "        }\n",
    "        for (var i=0;i<data.length;i++){\n",
    "            if (await isDir(path + '/' + data[i])) {\n",
    "                dirArr.push(data[i])\n",
    "            }\n",
    "        }\n",
    "        console.log(dirArr)\n",
    "    })\n",
    "    console.log('Gameover!')\n",
    "}\n",
    "\n",
    "main()"
   ]
  },
  {
   "cell_type": "code",
   "execution_count": 1,
   "id": "00a520d3",
   "metadata": {},
   "outputs": [
    {
     "name": "stdout",
     "output_type": "stream",
     "text": [
      "[MyPythonKernel155252] Info:The process :H:\\Jupyter\\ipynb\\MyNodejs\\tmp0a2fk6fy.py\n",
      "[MyPythonKernel155252] Info:python3 H:\\Jupyter\\ipynb\\MyNodejs\\tmp0a2fk6fy.py \n"
     ]
    },
    {
     "data": {
      "text/plain": [
       "MyPython\r\n"
      ]
     },
     "metadata": {
      "text/plain": {}
     },
     "output_type": "display_data"
    },
    {
     "name": "stdout",
     "output_type": "stream",
     "text": [
      "[MyPythonKernel155252] Info:The process end:17320\n"
     ]
    }
   ],
   "source": [
    "print(\"MyPython\")"
   ]
  },
  {
   "cell_type": "code",
   "execution_count": null,
   "id": "14a4badc-7f6d-453a-937c-03e4b0f20e7d",
   "metadata": {},
   "outputs": [],
   "source": []
  }
 ],
 "metadata": {
  "kernelspec": {
   "display_name": "MyPython",
   "language": "python",
   "name": "mypython"
  },
  "language_info": {
   "codemirror_mode": {
    "name": "ipython",
    "version": 3
   },
   "file_extension": ".py",
   "mimetype": "text/x-python",
   "name": "python",
   "nbconvert_exporter": "python",
   "pygments_lexer": "ipython3",
   "version": "3.9.6"
  },
  "widgets": {
   "application/vnd.jupyter.widget-state+json": {
    "state": {},
    "version_major": 2,
    "version_minor": 0
   }
  }
 },
 "nbformat": 4,
 "nbformat_minor": 5
}
