{
 "cells": [
  {
   "cell_type": "code",
   "execution_count": null,
   "metadata": {},
   "outputs": [],
   "source": [
    "//main.js \n",
    "//%log:0\n",
    "//%overwritefile\n",
    "//%file:src/btest1.js\n",
    "//%outputtype:text/html\n",
    "console.log('<meta charset=\"utf-8\">');\n",
    "console.log('<meta name=\"viewport\" content=\"width=device-width, initial-scale=1\">');\n",
    "console.log('<link href=\"https://cdn.staticfile.org/twitter-bootstrap/5.1.1/css/bootstrap.min.css\" rel=\"stylesheet\">');\n",
    "console.log('<script src=\"https://cdn.staticfile.org/twitter-bootstrap/5.1.1/js/bootstrap.bundle.min.js\"></script>');\n",
    "//console.log('<script src=\"https://cdn.jsdelivr.net/npm/bootstrap@5.1.3/dist/js/bootstrap.bundle.min.js\" integrity=\"sha384-3JyvMmfSMpWbSPyCjNwU5lHJFeswLerSwlOGCGjyuhQ+HKQNQKCbIzEgGTP1MfyY\" crossorigin=\"anonymous\"></script>');\n",
    "console.log('<H5>HTML 测试</H5>');\n",
    "console.log('<div class=\"container\">');\n",
    "console.log('<h1>我的第一个 Bootstrap 页面</h1>');\n",
    "console.log('<p>这是一些文本。</p> ');\n",
    "console.log('</div>');"
   ]
  },
  {
   "cell_type": "code",
   "execution_count": 4,
   "metadata": {
    "tags": []
   },
   "outputs": [
    {
     "data": {
      "text/html": [
       "<meta charset=\"utf-8\"><meta name=\"viewport\" content=\"width=device-width, initial-scale=1\"><link href=\"https://cdn.staticfile.org/twitter-bootstrap/5.1.1/css/bootstrap.min.css\" rel=\"stylesheet\"><script src=\"https://cdn.staticfile.org/twitter-bootstrap/5.1.1/js/bootstrap.bundle.min.js\"></script>\n"
      ]
     },
     "metadata": {
      "text/html": {}
     },
     "output_type": "display_data"
    }
   ],
   "source": [
    "//main.js \n",
    "//%log:0\n",
    "//%overwritefile\n",
    "//%file:src/btest1.js\n",
    "//%outputtype:text/html\n",
    "var bstr='<meta charset=\"utf-8\">\\\n",
    "<meta name=\"viewport\" content=\"width=device-width, initial-scale=1\">\\\n",
    "<link href=\"https://cdn.staticfile.org/twitter-bootstrap/5.1.1/css/bootstrap.min.css\" rel=\"stylesheet\">\\\n",
    "<script src=\"https://cdn.staticfile.org/twitter-bootstrap/5.1.1/js/bootstrap.bundle.min.js\"></script>';\n",
    "console.log(bstr)\n",
    "//console.log('<script src=\"https://cdn.jsdelivr.net/npm/bootstrap@5.1.3/dist/js/bootstrap.bundle.min.js\" integrity=\"sha384-3JyvMmfSMpWbSPyCjNwU5lHJFeswLerSwlOGCGjyuhQ+HKQNQKCbIzEgGTP1MfyY\" crossorigin=\"anonymous\"></script>');\n",
    "// console.log('<H5>HTML 测试</H5>');\n",
    "// console.log('<div class=\"container\">');\n",
    "// console.log('<h1>我的第一个 Bootstrap 页面</h1>');\n",
    "// console.log('<p>这是一些文本。</p> ');\n",
    "// console.log('</div>');\n",
    "\n",
    "// containerstr2='\\\n",
    "// <div style=\"background: transparent !important\">\\\n",
    "//   <h2>简单的折叠</h2>\\\n",
    "//   <p>点击按钮内容会再显示与隐藏之间切换。</p>\\\n",
    "//   <button type=\"button\" class=\"btn btn-primary\" data-bs-toggle=\"collapse\" data-bs-target=\"#demo\">折叠</button>\\\n",
    "//   <div id=\"demo\" class=\"collapse\">\\\n",
    "//     这里是一些测试的内容。。。这里是一些测试的内容。。。这里是一些测试的内容。。。这里是一些测试的内容。。。这里是一些测试的内容。。。\\\n",
    "//   </div>\\\n",
    "// </div>\\\n",
    "// ';\n",
    "// console.log(containerstr2);"
   ]
  },
  {
   "cell_type": "code",
   "execution_count": null,
   "metadata": {},
   "outputs": [],
   "source": []
  }
 ],
 "metadata": {
  "kernelspec": {
   "display_name": "MyNodejs",
   "language": "javascript",
   "name": "mynodejs"
  },
  "language_info": {
   "codemirror_mode": {
    "name": "ipython",
    "version": 3
   },
   "file_extension": ".js",
   "mimetype": "text/javascript",
   "name": "javascript",
   "nbconvert_exporter": "javascript",
   "pygments_lexer": "ipython3",
   "version": "3.9.6"
  }
 },
 "nbformat": 4,
 "nbformat_minor": 4
}
